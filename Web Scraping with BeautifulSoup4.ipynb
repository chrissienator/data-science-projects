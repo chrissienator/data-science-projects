{
 "cells": [
  {
   "cell_type": "markdown",
   "id": "8e559dfb",
   "metadata": {},
   "source": [
    "### Import packages"
   ]
  },
  {
   "cell_type": "code",
   "execution_count": 1,
   "id": "abac43ae",
   "metadata": {},
   "outputs": [],
   "source": [
    "from bs4 import BeautifulSoup\n",
    "import requests"
   ]
  },
  {
   "cell_type": "markdown",
   "id": "8edb1e5d",
   "metadata": {},
   "source": [
    "### Define URL and request HTML"
   ]
  },
  {
   "cell_type": "code",
   "execution_count": 2,
   "id": "55eab086",
   "metadata": {},
   "outputs": [],
   "source": [
    "url = \"https://www.newegg.com/intel-optane-ssd-dc-p4800x-1-5tb/p/1B4-008A-001G9?Item=9SIA4MRJRJ3212\"\n",
    "result = requests.get(url)\n",
    "doc = BeautifulSoup(result.text, 'html.parser')"
   ]
  },
  {
   "cell_type": "markdown",
   "id": "6ff32160",
   "metadata": {},
   "source": [
    "### Scrape price of itme"
   ]
  },
  {
   "cell_type": "code",
   "execution_count": 3,
   "id": "9703081a",
   "metadata": {},
   "outputs": [
    {
     "name": "stdout",
     "output_type": "stream",
     "text": [
      "1,950\n"
     ]
    }
   ],
   "source": [
    "prices = doc.find_all(text='$')\n",
    "parent = prices[0].parent\n",
    "strong = parent.find(\"strong\")\n",
    "print(strong.text)"
   ]
  }
 ],
 "metadata": {
  "kernelspec": {
   "display_name": "Python 3 (ipykernel)",
   "language": "python",
   "name": "python3"
  },
  "language_info": {
   "codemirror_mode": {
    "name": "ipython",
    "version": 3
   },
   "file_extension": ".py",
   "mimetype": "text/x-python",
   "name": "python",
   "nbconvert_exporter": "python",
   "pygments_lexer": "ipython3",
   "version": "3.8.2"
  }
 },
 "nbformat": 4,
 "nbformat_minor": 5
}
